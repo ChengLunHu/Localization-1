{
 "metadata": {
  "name": "",
  "signature": "sha256:aac477a43099bd7d1b1f5e8ebd31fd7833e1915eb7b24ea341ebec1c7b338a6a"
 },
 "nbformat": 3,
 "nbformat_minor": 0,
 "worksheets": [
  {
   "cells": [
    {
     "cell_type": "code",
     "collapsed": false,
     "input": [
      "import localization as lc\n",
      "from numpy import *\n"
     ],
     "language": "python",
     "metadata": {},
     "outputs": [],
     "prompt_number": 1
    },
    {
     "cell_type": "code",
     "collapsed": false,
     "input": [
      "################################################################\n",
      "#setting up sound and mic positions\n",
      "################################################################\n",
      "sensorPosition =[[0.15, 4.0],[4.80, 1.05],[0.25,-1.65],[-3.85,0.65]]\n",
      "mics = matrix(sensorPosition).T\n",
      "soundSource = 100*random.random_sample(2)\n",
      "temperature = 23"
     ],
     "language": "python",
     "metadata": {},
     "outputs": [],
     "prompt_number": 7
    },
    {
     "cell_type": "code",
     "collapsed": false,
     "input": [
      "################################################################\n",
      "#calculating time difference of arrivals to sensors from source\n",
      "################################################################\n",
      "v = (331.3+(0.606*temperature))*100\n",
      "times = [ sqrt( dot(location-soundSource,location-soundSource) ) / v for location in sensorPosition ]\n",
      "\n",
      "c = argmin(times)\n",
      "cTime = times[c]\n",
      "\n",
      "#calculate the difference in time relative to the shortest time\n",
      "t = [ dt - cTime for dt in times ]"
     ],
     "language": "python",
     "metadata": {},
     "outputs": [],
     "prompt_number": 8
    },
    {
     "cell_type": "code",
     "collapsed": false,
     "input": [
      "################################################################\n",
      "#tests the algorithm\n",
      "################################################################\n",
      "\n",
      "location = lc.tdoa(mics, t, temperature)"
     ],
     "language": "python",
     "metadata": {},
     "outputs": [],
     "prompt_number": 9
    },
    {
     "cell_type": "code",
     "collapsed": false,
     "input": [
      "location"
     ],
     "language": "python",
     "metadata": {},
     "outputs": [
      {
       "metadata": {},
       "output_type": "pyout",
       "prompt_number": 10,
       "text": [
        "array([ 44.19460371,  33.06978253])"
       ]
      }
     ],
     "prompt_number": 10
    },
    {
     "cell_type": "code",
     "collapsed": false,
     "input": [
      "soundSource"
     ],
     "language": "python",
     "metadata": {},
     "outputs": [
      {
       "metadata": {},
       "output_type": "pyout",
       "prompt_number": 11,
       "text": [
        "array([ 44.19460371,  33.06978253])"
       ]
      }
     ],
     "prompt_number": 11
    },
    {
     "cell_type": "code",
     "collapsed": false,
     "input": [],
     "language": "python",
     "metadata": {},
     "outputs": []
    }
   ],
   "metadata": {}
  }
 ]
}