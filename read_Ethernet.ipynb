{
 "metadata": {
  "name": "",
  "signature": "sha256:5292627d8299b1a5b330ae3fa37bd9e98b974081f60eb3e045c0c0821cdf740b"
 },
 "nbformat": 3,
 "nbformat_minor": 0,
 "worksheets": [
  {
   "cells": [
    {
     "cell_type": "code",
     "collapsed": false,
     "input": [
      "%pylab"
     ],
     "language": "python",
     "metadata": {},
     "outputs": [
      {
       "output_type": "stream",
       "stream": "stdout",
       "text": [
        "Using matplotlib backend: Qt4Agg\n",
        "Populating the interactive namespace from numpy and matplotlib\n"
       ]
      },
      {
       "output_type": "stream",
       "stream": "stderr",
       "text": [
        "WARNING: pylab import has clobbered these variables: ['legend']\n",
        "`%matplotlib` prevents importing * from pylab and numpy\n"
       ]
      }
     ],
     "prompt_number": 10
    },
    {
     "cell_type": "code",
     "collapsed": false,
     "input": [
      "import socket\n",
      "import numpy as np\n",
      "from struct import *\n",
      "import localization as lc\n",
      "import matplotlib.pyplot as plt\n",
      "\n",
      "BROADCAST_PORT = 58083\n",
      " \n",
      "s = socket.socket(socket.AF_INET, socket.SOCK_DGRAM)\n",
      "s.setsockopt(socket.SOL_SOCKET, socket.SO_REUSEADDR, 1)\n",
      "s.bind(('0.0.0.0', BROADCAST_PORT))"
     ],
     "language": "python",
     "metadata": {},
     "outputs": [],
     "prompt_number": 57
    },
    {
     "cell_type": "code",
     "collapsed": false,
     "input": [
      "x=0\n",
      "cycles = 10 #number of cycle readings to save in quantities of 512 samples\n",
      "delay = np.zeros(cycles)"
     ],
     "language": "python",
     "metadata": {},
     "outputs": [],
     "prompt_number": 58
    },
    {
     "cell_type": "code",
     "collapsed": false,
     "input": [
      "while x<cycles:\n",
      "    for i in range(0,cycles):\n",
      "        if i == 0:\n",
      "            val = s.recvfrom(5122)\n",
      "            data =  np.fromstring(val[0], dtype='H')\n",
      "            times = data[0:512]*(1.0)\n",
      "            mic1 = data[512:1024]*(3300.0/65535.0)\n",
      "            mic2 = data[1024:1536]*(3300.0/65535.0)\n",
      "            mic3 = data[1536:2048]*(3300.0/65535.0)\n",
      "            mic4 = data[2048:2560]*(3300.0/65535.0)\n",
      "            delay[i] = data[2560]*(1.0)\n",
      "            \n",
      "            #fs = 512.0 / (times[len(times)-1]*np.power(10.0,-6))\n",
      "            #mic1, mic2, mic3, mic4 = lc.normalize(mic1, mic2, mic3, mic4)\n",
      "            #mic1, mic2, mic3, mic4 = lc.filter(mic1, mic2, mic3, mic4, 800.0, 1200.0, fs)\n",
      "        else:\n",
      "            val = s.recvfrom(5122)\n",
      "            data =  np.fromstring(val[0], dtype='H')\n",
      "            t = data[0:512]*1.0\n",
      "            m1 = data[512:1024]*(3300.0/65535.0)\n",
      "            m2 = data[1024:1536]*(3300.0/65535.0)\n",
      "            m3 = data[1536:2048]*(3300.0/65535.0)\n",
      "            m4 = data[2048:2560]*(3300.0/65535.0)\n",
      "            delay[i] = data[2560]*(1.0)\n",
      "            \n",
      "            elapsed_time = times[len(times)-1]\n",
      "            t = delay[i] + t + elapsed_time\n",
      "            \n",
      "            #fs = 512.0 / (t[len(t)-1]*np.power(10.0,-6))\n",
      "            #m1, m2, m3, m4 = lc.normalize(m1, m2, m3, m4)\n",
      "            #m1, m2, m3, m4 = lc.filter(m1, m2, m3, m4, 800.0, 1200.0, fs)\n",
      "    \n",
      "    \n",
      "            if delay[i] > 0:\n",
      "                t = np.insert(t, 0, np.NAN)\n",
      "                m1 = np.insert(m1, 0, np.NAN)\n",
      "                m2 = np.insert(m2, 0, np.NAN)\n",
      "                m3 = np.insert(m3, 0, np.NAN)\n",
      "                m4 = np.insert(m4, 0, np.NAN)\n",
      "            \n",
      "                times = np.append(times, t)\n",
      "                mic1 = np.append(mic1, m1)\n",
      "                mic2 = np.append(mic2, m2)\n",
      "                mic3 = np.append(mic3, m3)\n",
      "                mic4 = np.append(mic4, m4)\n",
      "            else:\n",
      "                times = np.append(times, t)\n",
      "                mic1 = np.append(mic1, m1)\n",
      "                mic2 = np.append(mic2, m2)\n",
      "                mic3 = np.append(mic3, m3)\n",
      "                mic4 = np.append(mic4, m4)\n",
      "    x+=1"
     ],
     "language": "python",
     "metadata": {},
     "outputs": [],
     "prompt_number": 59
    },
    {
     "cell_type": "heading",
     "level": 2,
     "metadata": {},
     "source": []
    },
    {
     "cell_type": "code",
     "collapsed": false,
     "input": [
      "    np.savez('run52.npz', times=times, mic1=mic1, mic2=mic2, mic3=mic3, mic4=mic4)\n",
      "    print 'saved'\n",
      "    \n",
      "    fig, ax = plt.subplots()\n",
      "    p1 = ax.plot(times, mic1, label='Mic 1')\n",
      "    p2 = ax.plot(times, mic2, label='Mic 2')\n",
      "    p3 = ax.plot(times, mic3, label='Mic 3')\n",
      "    p4 = ax.plot(times, mic4, label='Mic 4')\n",
      "    plt.xlabel('time [microseconds]')\n",
      "    plt.ylabel('Voltage [mV]')\n",
      "    plt.title('Electrical Noise, no input to the ADC Channels')\n",
      "    legend = ax.legend(loc='upper right', shadow = True)\n",
      "    plt.show()"
     ],
     "language": "python",
     "metadata": {},
     "outputs": [
      {
       "output_type": "stream",
       "stream": "stdout",
       "text": [
        "saved\n"
       ]
      }
     ],
     "prompt_number": 60
    },
    {
     "cell_type": "code",
     "collapsed": false,
     "input": [],
     "language": "python",
     "metadata": {},
     "outputs": []
    }
   ],
   "metadata": {}
  }
 ]
}