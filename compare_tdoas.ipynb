{
 "metadata": {
  "name": "",
  "signature": "sha256:808e2a32da7dc5bd8587f780484a00c65e50133f864b0ee37b50b33590ef6b9a"
 },
 "nbformat": 3,
 "nbformat_minor": 0,
 "worksheets": [
  {
   "cells": [
    {
     "cell_type": "code",
     "collapsed": false,
     "input": [
      "import numpy as np\n",
      "from numpy import linalg as LA\n",
      "import localization as lc\n",
      "import matplotlib.pyplot as plt\n",
      "import sys\n",
      "import glob"
     ],
     "language": "python",
     "metadata": {},
     "outputs": [],
     "prompt_number": 1
    },
    {
     "cell_type": "code",
     "collapsed": false,
     "input": [
      "sound_files = glob.glob('/home/interam/Documents/Robot_Localization/Oct302014_data/run*.npz')\n",
      "optitrak_files = glob.glob('/home/interam/Documents/Robot_Localization/Oct302014_data/run*.csv')\n",
      "\n",
      "\n",
      "sound_file = '/home/interam/Documents/Robot_Localization/Oct302014_data/run2.npz'\n",
      "optitrak_file = '/home/interam/Documents/Robot_Localization/Oct302014_data/run2.csv'\n",
      "\n",
      "trackable1, trackable2, times, mic1, mic2, mic3, mic4 = lc.get_sound_data(sound_file, optitrak_file)\n",
      "\n",
      "sensorPosition =[[.0015, .040],[.048, .0105],[.0025,-.0165],[-.0385,.0065]]\n",
      "mics = np.matrix(sensorPosition).T\n",
      "temperature = 23"
     ],
     "language": "python",
     "metadata": {},
     "outputs": [],
     "prompt_number": 2
    },
    {
     "cell_type": "code",
     "collapsed": false,
     "input": [
      "mic1Position = [trackable2[0] + mics[0,0], trackable2[1] + mics[1,0]]\n",
      "mic2Position = [trackable2[0] + mics[0,1], trackable2[1] + mics[1,1]]\n",
      "mic3Position = [trackable2[0] + mics[0,2], trackable2[1] + mics[1,2]]\n",
      "mic4Position = [trackable2[0] + mics[0,3], trackable2[1] + mics[1,3]]\n",
      "micPosition = np.array([mic1Position, mic2Position, mic3Position, mic4Position])"
     ],
     "language": "python",
     "metadata": {},
     "outputs": [],
     "prompt_number": 3
    },
    {
     "cell_type": "code",
     "collapsed": false,
     "input": [
      "dist1 = LA.norm(trackable1 - mic1Position)\n",
      "dist2 = LA.norm(trackable1 - mic2Position)\n",
      "dist3 = LA.norm(trackable1 - mic3Position)\n",
      "dist4 = LA.norm(trackable1 - mic4Position)"
     ],
     "language": "python",
     "metadata": {},
     "outputs": [],
     "prompt_number": 4
    },
    {
     "cell_type": "code",
     "collapsed": false,
     "input": [
      "print dist1, dist2, dist3, dist4"
     ],
     "language": "python",
     "metadata": {},
     "outputs": [
      {
       "output_type": "stream",
       "stream": "stdout",
       "text": [
        "1.14510958758 1.18703121592 1.19971190485 1.16701599685\n"
       ]
      }
     ],
     "prompt_number": 5
    },
    {
     "cell_type": "code",
     "collapsed": false,
     "input": [
      "v = (331.3+(0.606*temperature))\n",
      "tt1 = dist1/v\n",
      "tt2 = dist2/v\n",
      "tt3 = dist3/v\n",
      "tt4 = dist4/v"
     ],
     "language": "python",
     "metadata": {},
     "outputs": [],
     "prompt_number": 6
    },
    {
     "cell_type": "code",
     "collapsed": false,
     "input": [
      "sampleRate = len(times)/(times[len(times)-1]*np.power(10.0,-6))\n",
      "m1, m2, m3, m4 = lc.normalize(mic1, mic2, mic3,mic4)\n",
      "m1, m2, m3, m4 = lc.run_filter(m1, m2, m3, m4, 800, 1200, sampleRate) \n",
      "t, m1, m2, m3, m4 = lc.interpolate(times, m1, m2, m3, m4, 10)"
     ],
     "language": "python",
     "metadata": {},
     "outputs": [],
     "prompt_number": 7
    },
    {
     "cell_type": "code",
     "collapsed": false,
     "input": [
      "testtime = t[600:1000]\n",
      "testm1 = m1[512:1024]\n",
      "testm2 = m2[512:1024]\n",
      "testm3 = m3[512:1024]\n",
      "testm4 = m4[512:1024]\n",
      "m1val = testm1[2]\n",
      "m2val = testm2[2]\n",
      "m3val = testm3[2]\n",
      "m4val = testm4[2]\n",
      "\n",
      "cor1, cor2, cor3, cor4 = lc.correlate(testm1, testm2, testm3, testm4)\n",
      "t1, t2, t3, t4 = lc.get_taus(cor1, cor2, cor3, cor4, sampleRate)\n",
      "pht1, pht2, pht3, pht4 = lc.find_phase(testm1,testm2,testm3,testm4)\n",
      "pht = np.array([pht1, pht2, pht3, pht4])\n",
      "\n",
      "deltat = np.array([t1, t2, t3, t4])\n",
      "\n",
      "c = np.argmin(deltat)\n",
      "cTime = deltat[c]\n",
      "\n",
      "#calculate the difference in time relative to the shortest time\n",
      "ddt = np.array([ dt - cTime for dt in deltat ])"
     ],
     "language": "python",
     "metadata": {},
     "outputs": [],
     "prompt_number": 8
    },
    {
     "cell_type": "code",
     "collapsed": false,
     "input": [
      "cdt1 = (tt1 - tt1)\n",
      "cdt2 = (tt2 - tt1)\n",
      "cdt3 = (tt3 - tt1)\n",
      "cdt4 = (tt4 - tt1)\n",
      "cal_dt = np.array([cdt1, cdt2, cdt3, cdt4])"
     ],
     "language": "python",
     "metadata": {},
     "outputs": [],
     "prompt_number": 9
    },
    {
     "cell_type": "code",
     "collapsed": false,
     "input": [
      "print pht\n",
      "print ddt\n",
      "print cal_dt"
     ],
     "language": "python",
     "metadata": {},
     "outputs": [
      {
       "output_type": "stream",
       "stream": "stdout",
       "text": [
        "[ 0.00013953  0.00012505  0.00014947  0.00012503]\n",
        "[  0.00000000e+00   2.29971527e-08   1.95893253e-08   2.15115404e-08]\n",
        "[  0.00000000e+00   1.21428198e-04   1.58158480e-04   6.34530650e-05]\n"
       ]
      }
     ],
     "prompt_number": 10
    },
    {
     "cell_type": "code",
     "collapsed": false,
     "input": [
      "t = np.linspace(0, 10, 1000)\n",
      "sin1 = np.sin(1000*(t))\n",
      "sin2 = np.sin((1000*(t))-(np.pi/4))\n",
      "plt.plot(t,sin1,t,sin2)\n",
      "plt.show()\n",
      "calc_timediff = (np.pi/4)/(2*np.pi*1000)"
     ],
     "language": "python",
     "metadata": {},
     "outputs": [],
     "prompt_number": 66
    },
    {
     "cell_type": "code",
     "collapsed": false,
     "input": [
      "sin_phi = np.arccos(2*np.mean(sin1*sin2))"
     ],
     "language": "python",
     "metadata": {},
     "outputs": [],
     "prompt_number": 67
    },
    {
     "cell_type": "code",
     "collapsed": false,
     "input": [
      "print sin_phi/(2*np.pi*1000)\n",
      "print calc_timediff"
     ],
     "language": "python",
     "metadata": {},
     "outputs": [
      {
       "output_type": "stream",
       "stream": "stdout",
       "text": [
        "0.000125282671971\n",
        "0.000125\n"
       ]
      }
     ],
     "prompt_number": 68
    },
    {
     "cell_type": "code",
     "collapsed": false,
     "input": [],
     "language": "python",
     "metadata": {},
     "outputs": [
      {
       "metadata": {},
       "output_type": "pyout",
       "prompt_number": 18,
       "text": [
        "0.51812496757265214"
       ]
      }
     ],
     "prompt_number": 18
    },
    {
     "cell_type": "code",
     "collapsed": false,
     "input": [],
     "language": "python",
     "metadata": {},
     "outputs": []
    }
   ],
   "metadata": {}
  }
 ]
}