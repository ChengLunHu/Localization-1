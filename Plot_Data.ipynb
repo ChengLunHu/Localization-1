{
 "metadata": {
  "name": "",
  "signature": "sha256:e9dc838b4b9375ebb1c59e7c9f3430d638fc4b1687d4d91c2d6a46483efc3e39"
 },
 "nbformat": 3,
 "nbformat_minor": 0,
 "worksheets": [
  {
   "cells": [
    {
     "cell_type": "code",
     "collapsed": false,
     "input": [
      "import numpy as np\n",
      "import matplotlib.pyplot as plt"
     ],
     "language": "python",
     "metadata": {},
     "outputs": [],
     "prompt_number": 1
    },
    {
     "cell_type": "code",
     "collapsed": false,
     "input": [
      "data = np.load('test.npz')"
     ],
     "language": "python",
     "metadata": {},
     "outputs": [],
     "prompt_number": 2
    },
    {
     "cell_type": "raw",
     "metadata": {},
     "source": []
    },
    {
     "cell_type": "code",
     "collapsed": false,
     "input": [
      "plt.plot(data['times'], data['mic1'], data['times'], data['mic2'], data['times'], data['mic3'], data['times'], data['mic4'])\n",
      "plt.xlabel('time [microseconds]')\n",
      "plt.ylabel('Voltage [mV]')\n",
      "plt.title('Electrical Noise with no input to ADC')\n",
      "plt.show()"
     ],
     "language": "python",
     "metadata": {},
     "outputs": [],
     "prompt_number": 3
    },
    {
     "cell_type": "code",
     "collapsed": false,
     "input": [],
     "language": "python",
     "metadata": {},
     "outputs": []
    }
   ],
   "metadata": {}
  }
 ]
}