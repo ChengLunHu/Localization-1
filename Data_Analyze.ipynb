{
 "metadata": {
  "name": "",
  "signature": "sha256:08e051a45c201e99e2233819ca907f9b2dd6d37b478ac51ef0cef602d721c996"
 },
 "nbformat": 3,
 "nbformat_minor": 0,
 "worksheets": [
  {
   "cells": [
    {
     "cell_type": "code",
     "collapsed": false,
     "input": [
      "import numpy as np\n",
      "import localization as lc\n",
      "import matplotlib.pyplot as plt\n",
      "import csv\n",
      "import sys"
     ],
     "language": "python",
     "metadata": {},
     "outputs": [],
     "prompt_number": 1
    },
    {
     "cell_type": "code",
     "collapsed": false,
     "input": [
      "sound_file = '/home/interam/Documents/Robot_Localization/Oct302014_data/run1.npz'\n",
      "optitrak_file = '/home/interam/Documents/Robot_Localization/Oct302014_data/run1.csv'\n",
      "position_file = open(optitrak_file, 'rb')\n",
      "trackable1x = []\n",
      "trackable1z = []\n",
      "trackable2x = []\n",
      "trackable2z = []\n",
      "try:\n",
      "    reader = csv.reader(position_file)\n",
      "    for row in reader:\n",
      "        if row[0] == 'frame':\n",
      "            trackable1x.append(row[5])\n",
      "            trackable1z.append(row[7])\n",
      "            trackable2x.append(row[16])\n",
      "            trackable2z.append(row[18])\n",
      "finally:\n",
      "    position_file.close()\n",
      "data = np.load(sound_file)\n",
      "times = data['times']\n",
      "mic1 = data['mic1']\n",
      "mic2 = data['mic2']\n",
      "mic3 = data['mic3']\n",
      "mic4 = data['mic4']\n",
      "\n",
      "sensorPosition =[[.0015, .040],[.048, .0105],[.0025,-.0165],[-.0385,.0065]]\n",
      "mics = np.matrix(sensorPosition).T\n",
      "temperature = 23"
     ],
     "language": "python",
     "metadata": {},
     "outputs": [],
     "prompt_number": 20
    },
    {
     "cell_type": "code",
     "collapsed": false,
     "input": [
      "plt.plot(times, mic1, times, mic2, times, mic3, times, mic4)\n",
      "plt.xlabel('time [microseconds]')\n",
      "plt.ylabel('Voltage [mV]')\n",
      "plt.title('1kHz sound signal into 4 microphones')\n",
      "plt.legend(['Mic 1', 'Mic 2', 'Mic 3', 'Mic 4'])\n",
      "plt.show()"
     ],
     "language": "python",
     "metadata": {},
     "outputs": [],
     "prompt_number": 13
    },
    {
     "cell_type": "code",
     "collapsed": false,
     "input": [
      "sampleRate = len(times)/(times[len(times)-1]*np.power(10.0,-6))\n",
      "m1, m2, m3, m4 = lc.normalize(mic1, mic2, mic3,mic4)\n",
      "m1, m2, m3, m4 = lc.filter(m1, m2, m3, m4, 800, 1200, sampleRate) \n",
      "t, m1, m2, m3, m4 = lc.interpolate(times, m1, m2, m3, m4, 10)"
     ],
     "language": "python",
     "metadata": {},
     "outputs": [],
     "prompt_number": 21
    },
    {
     "cell_type": "code",
     "collapsed": false,
     "input": [
      "plt.plot(t, m1, t, m2, t, m3, t, m4)\n",
      "plt.xlabel('time [microseconds]')\n",
      "plt.ylabel('Voltage [mV]')\n",
      "plt.title('1kHz sound signal into 4 microphones')\n",
      "plt.legend(['Mic 1', 'Mic 2', 'Mic 3', 'Mic 4'])\n",
      "plt.show()"
     ],
     "language": "python",
     "metadata": {},
     "outputs": [],
     "prompt_number": 15
    },
    {
     "cell_type": "code",
     "collapsed": false,
     "input": [
      "testm1 = m1[600:1000]\n",
      "testm2 = m2[600:1000]\n",
      "testm3 = m3[600:1000]\n",
      "testm4 = m4[600:1000]\n",
      "cor1, cor2, cor3, cor4 = lc.correlate(testm1, testm2, testm3, testm4)\n",
      "t1, t2, t3, t4 = lc.get_taus(cor1, cor2, cor3, cor4, sampleRate)\n",
      "\n",
      "deltat = np.array([t1, t2, t3, t4])\n",
      "\n",
      "c = np.argmin(deltat)\n",
      "cTime = deltat[c]\n",
      "\n",
      "#calculate the difference in time relative to the shortest time\n",
      "ddt = np.array([ dt - cTime for dt in deltat ])\n",
      "location = lc.tdoa(mics, ddt, temperature)\n",
      "print location"
     ],
     "language": "python",
     "metadata": {},
     "outputs": [
      {
       "output_type": "stream",
       "stream": "stdout",
       "text": [
        "[  2.88148753e+10   1.41425081e+12]\n"
       ]
      }
     ],
     "prompt_number": 40
    },
    {
     "cell_type": "code",
     "collapsed": false,
     "input": [
      "plt.plot(mics[0,:], mics[1,:],'rx', trackable2x[0], trackable2z[0],'bx', trackable1x[0], trackable1z[0],'gx',location[0], location[1],'bd')\n",
      "plt.xlabel('x-axis')\n",
      "plt.ylabel('y-axis')\n",
      "plt.title('Multilateration Algorithm')\n",
      "#plt.legend(['Microphone Array', 'Mic Array Opti', 'Sound Source Opti', 'Sound Source Alg'])\n",
      "plt.show()"
     ],
     "language": "python",
     "metadata": {},
     "outputs": [],
     "prompt_number": 39
    },
    {
     "cell_type": "code",
     "collapsed": false,
     "input": [],
     "language": "python",
     "metadata": {},
     "outputs": [
      {
       "output_type": "stream",
       "stream": "stdout",
       "text": [
        "[ 85474.1691415]\n"
       ]
      }
     ],
     "prompt_number": 44
    },
    {
     "cell_type": "code",
     "collapsed": false,
     "input": [],
     "language": "python",
     "metadata": {},
     "outputs": []
    }
   ],
   "metadata": {}
  }
 ]
}