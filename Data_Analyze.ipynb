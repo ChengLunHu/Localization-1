{
 "metadata": {
  "name": "",
  "signature": "sha256:7c395743ef5ab46b73aa1474ad62f7cddca9559c6c5372671244942c31220af3"
 },
 "nbformat": 3,
 "nbformat_minor": 0,
 "worksheets": [
  {
   "cells": [
    {
     "cell_type": "code",
     "collapsed": false,
     "input": [
      "import numpy as np\n",
      "import localization as lc\n",
      "import matplotlib.pyplot as plt\n",
      "import csv\n",
      "import sys"
     ],
     "language": "python",
     "metadata": {},
     "outputs": [],
     "prompt_number": 1
    },
    {
     "cell_type": "code",
     "collapsed": false,
     "input": [
      "sound_file = '/home/interam/Documents/Robot_Localization/Oct302014_data/run1.npz'\n",
      "optitrak_file = '/home/interam/Documents/Robot_Localization/Oct302014_data/run1.csv'\n",
      "position_file = open(optitrak_file, 'rb')\n",
      "trackable1x = []\n",
      "trackable1z = []\n",
      "trackable2x = []\n",
      "trackable2z = []\n",
      "try:\n",
      "    reader = csv.reader(position_file)\n",
      "    for row in reader:\n",
      "        if row[0] == 'frame':\n",
      "            trackable1x.append(row[5])\n",
      "            trackable1z.append(row[7])\n",
      "            trackable2x.append(row[16])\n",
      "            trackable2z.append(row[18])\n",
      "finally:\n",
      "    position_file.close()\n",
      "\n",
      "trackable1 = np.array([-float(trackable1x[1]), -float(trackable1z[1])])\n",
      "trackable2 = np.array([-float(trackable2x[1]), -float(trackable2z[1])])\n",
      "data = np.load(sound_file)\n",
      "times = data['times']\n",
      "mic1 = data['mic1']\n",
      "mic2 = data['mic2']\n",
      "mic3 = data['mic3']\n",
      "mic4 = data['mic4']\n",
      "\n",
      "sensorPosition =[[.0015, .040],[.048, .0105],[.0025,-.0165],[-.0385,.0065]]\n",
      "mics = np.matrix(sensorPosition).T\n",
      "temperature = 23"
     ],
     "language": "python",
     "metadata": {},
     "outputs": [],
     "prompt_number": 2
    },
    {
     "cell_type": "code",
     "collapsed": false,
     "input": [
      "plt.plot(times, mic1, times, mic2, times, mic3, times, mic4)\n",
      "plt.xlabel('time [microseconds]')\n",
      "plt.ylabel('Voltage [mV]')\n",
      "plt.title('1kHz sound signal into 4 microphones')\n",
      "plt.legend(['Mic 1', 'Mic 2', 'Mic 3', 'Mic 4'])\n",
      "plt.show()"
     ],
     "language": "python",
     "metadata": {},
     "outputs": [],
     "prompt_number": 3
    },
    {
     "cell_type": "code",
     "collapsed": false,
     "input": [
      "sampleRate = len(times)/(times[len(times)-1]*np.power(10.0,-6))\n",
      "m1, m2, m3, m4 = lc.normalize(mic1, mic2, mic3,mic4)\n",
      "m1, m2, m3, m4 = lc.filter(m1, m2, m3, m4, 800, 1200, sampleRate) \n",
      "t, m1, m2, m3, m4 = lc.interpolate(times, m1, m2, m3, m4, 10)"
     ],
     "language": "python",
     "metadata": {},
     "outputs": [],
     "prompt_number": 4
    },
    {
     "cell_type": "code",
     "collapsed": false,
     "input": [
      "plt.plot(t, m1, t, m2, t, m3, t, m4)\n",
      "plt.xlabel('time [microseconds]')\n",
      "plt.ylabel('Voltage [mV]')\n",
      "plt.title('1kHz sound signal into 4 microphones')\n",
      "plt.legend(['Mic 1', 'Mic 2', 'Mic 3', 'Mic 4'])\n",
      "plt.show()"
     ],
     "language": "python",
     "metadata": {},
     "outputs": [],
     "prompt_number": 7
    },
    {
     "cell_type": "code",
     "collapsed": false,
     "input": [
      "testm1 = m1[600:1000]\n",
      "testm2 = m2[600:1000]\n",
      "testm3 = m3[600:1000]\n",
      "testm4 = m4[600:1000]\n",
      "m1val = testm1[2]\n",
      "m2val = testm2[2]\n",
      "m3val = testm3[2]\n",
      "m4val = testm4[2]\n",
      "if m1val > m2val and m1val > m3val and m1val > m4val:\n",
      "    cor1, cor2, cor3, cor4 = lc.correlate(testm1, testm2, testm3, testm4)\n",
      "    t1, t2, t3, t4 = lc.get_taus(cor1, cor2, cor3, cor4, sampleRate)\n",
      "elif m2val > m1val and m2val > m3val and m2val > m4val:\n",
      "    cor1, cor2, cor3, cor4 = lc.correlate(testm2, testm1, testm3, testm4)\n",
      "    t1, t2, t3, t4 = lc.get_taus(cor1, cor2, cor3, cor4, sampleRate)\n",
      "elif m3val > m1val and m3val > m2val and m3val > m4val:\n",
      "    cor1, cor2, cor3, cor4 = lc.correlate(testm3, testm1, testm2, testm4)\n",
      "    t1, t2, t3, t4 = lc.get_taus(cor1, cor2, cor3, cor4, sampleRate)\n",
      "else:\n",
      "    cor1, cor2, cor3, cor4 = lc.correlate(testm4, testm1, testm2, testm4)\n",
      "    t1, t2, t3, t4 = lc.get_taus(cor1, cor2, cor3, cor4, sampleRate)\n",
      "    \n",
      "deltat = np.array([t1, t2, t3, t4])\n",
      "\n",
      "c = np.argmin(deltat)\n",
      "cTime = deltat[c]\n",
      "\n",
      "#calculate the difference in time relative to the shortest time\n",
      "ddt = np.array([ dt - cTime for dt in deltat ])\n",
      "location = lc.tdoa(mics, ddt, temperature)\n",
      "print location"
     ],
     "language": "python",
     "metadata": {},
     "outputs": [
      {
       "output_type": "stream",
       "stream": "stdout",
       "text": [
        "[  2.15125091e+12   1.61782371e+13]\n"
       ]
      }
     ],
     "prompt_number": 5
    },
    {
     "cell_type": "code",
     "collapsed": false,
     "input": [
      "mic1Position = [trackable2[0] + mics[0,0], trackable2[1] + mics[1,0]]\n",
      "mic2Position = [trackable2[0] + mics[0,1], trackable2[1] + mics[1,1]]\n",
      "mic3Position = [trackable2[0] + mics[0,2], trackable2[1] + mics[1,2]]\n",
      "mic4Position = [trackable2[0] + mics[0,3], trackable2[1] + mics[1,3]]\n",
      "micPosition = np.array([mic1Position, mic2Position, mic3Position, mic4Position])"
     ],
     "language": "python",
     "metadata": {},
     "outputs": [],
     "prompt_number": 6
    },
    {
     "cell_type": "code",
     "collapsed": false,
     "input": [
      "plt.plot(micPosition[:,0], micPosition[:,1],'rx', trackable1[0], trackable1[1],'gd', location[0]/10000000000000, location[1]/10000000000000,'bd')\n",
      "plt.xlabel('x-axis [m]')\n",
      "plt.ylabel('y-axis [m]')\n",
      "plt.title('Multilateration Algorithm')\n",
      "plt.title('Algorithm Guess of sound location')\n",
      "plt.legend(['Microphones', 'Optitrack Sound Location', 'Algorithm Estimate'],loc='upper left')\n",
      "plt.show()"
     ],
     "language": "python",
     "metadata": {},
     "outputs": []
    },
    {
     "cell_type": "code",
     "collapsed": false,
     "input": [],
     "language": "python",
     "metadata": {},
     "outputs": [
      {
       "metadata": {},
       "output_type": "pyout",
       "prompt_number": 48,
       "text": [
        "matrix([[ 0.0015,  0.048 ,  0.0025, -0.0385],\n",
        "        [ 0.04  ,  0.0105, -0.0165,  0.0065]])"
       ]
      }
     ],
     "prompt_number": 48
    },
    {
     "cell_type": "code",
     "collapsed": false,
     "input": [],
     "language": "python",
     "metadata": {},
     "outputs": [
      {
       "metadata": {},
       "output_type": "pyout",
       "prompt_number": 49,
       "text": [
        "0.040000000000000001"
       ]
      }
     ],
     "prompt_number": 49
    },
    {
     "cell_type": "code",
     "collapsed": false,
     "input": [],
     "language": "python",
     "metadata": {},
     "outputs": [
      {
       "metadata": {},
       "output_type": "pyout",
       "prompt_number": 52,
       "text": [
        "array([[ 0.02387875, -0.19416224],\n",
        "       [ 0.07037875, -0.22366224],\n",
        "       [ 0.02487875, -0.25066224],\n",
        "       [-0.01612125, -0.22766224]])"
       ]
      }
     ],
     "prompt_number": 52
    },
    {
     "cell_type": "code",
     "collapsed": false,
     "input": [],
     "language": "python",
     "metadata": {},
     "outputs": []
    }
   ],
   "metadata": {}
  }
 ]
}