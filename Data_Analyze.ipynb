{
 "metadata": {
  "name": "",
  "signature": "sha256:a08d7b7b610012615b0920984c233043fd71b59f8ab50fcd180f5595c26e8f08"
 },
 "nbformat": 3,
 "nbformat_minor": 0,
 "worksheets": [
  {
   "cells": [
    {
     "cell_type": "code",
     "collapsed": false,
     "input": [
      "import numpy as np\n",
      "import localization as lc\n",
      "import matplotlib.pyplot as plt\n",
      "import sys\n",
      "import glob"
     ],
     "language": "python",
     "metadata": {},
     "outputs": [],
     "prompt_number": 1
    },
    {
     "cell_type": "code",
     "collapsed": false,
     "input": [
      "sound_files = glob.glob('/home/interam/Documents/Robot_Localization/Oct302014_data/run*.npz')\n",
      "optitrak_files = glob.glob('/home/interam/Documents/Robot_Localization/Oct302014_data/run*.csv')\n",
      "\n",
      "\n",
      "sound_file = '/home/interam/Documents/Robot_Localization/Oct302014_data/run2.npz'\n",
      "optitrak_file = '/home/interam/Documents/Robot_Localization/Oct302014_data/run2.csv'\n",
      "\n",
      "trackable1, trackable2, times, mic1, mic2, mic3, mic4 = lc.get_sound_data(sound_file, optitrak_file)\n",
      "\n",
      "sensorPosition =[[.0015, .040],[.048, .0105],[.0025,-.0165],[-.0385,.0065]]\n",
      "mics = np.matrix(sensorPosition).T\n",
      "temperature = 23"
     ],
     "language": "python",
     "metadata": {},
     "outputs": [],
     "prompt_number": 2
    },
    {
     "cell_type": "code",
     "collapsed": false,
     "input": [
      "plt.plot(times, mic1, times, mic2, times, mic3, times, mic4)\n",
      "plt.xlabel('time [microseconds]')\n",
      "plt.ylabel('Voltage [mV]')\n",
      "plt.title('1kHz sound signal into 4 microphones')\n",
      "plt.legend(['Mic 1', 'Mic 2', 'Mic 3', 'Mic 4'])\n",
      "plt.show()"
     ],
     "language": "python",
     "metadata": {},
     "outputs": [],
     "prompt_number": 3
    },
    {
     "cell_type": "code",
     "collapsed": false,
     "input": [
      "sampleRate = len(times)/(times[len(times)-1]*np.power(10.0,-6))\n",
      "m1, m2, m3, m4 = lc.normalize(mic1, mic2, mic3,mic4)\n",
      "m1, m2, m3, m4 = lc.filter(m1, m2, m3, m4, 800, 1200, sampleRate) \n",
      "t, m1, m2, m3, m4 = lc.interpolate(times, m1, m2, m3, m4, 10)"
     ],
     "language": "python",
     "metadata": {},
     "outputs": [
      {
       "ename": "AttributeError",
       "evalue": "'module' object has no attribute 'filter'",
       "output_type": "pyerr",
       "traceback": [
        "\u001b[1;31m---------------------------------------------------------------------------\u001b[0m\n\u001b[1;31mAttributeError\u001b[0m                            Traceback (most recent call last)",
        "\u001b[1;32m<ipython-input-4-3a22d5d818f9>\u001b[0m in \u001b[0;36m<module>\u001b[1;34m()\u001b[0m\n\u001b[0;32m      1\u001b[0m \u001b[0msampleRate\u001b[0m \u001b[1;33m=\u001b[0m \u001b[0mlen\u001b[0m\u001b[1;33m(\u001b[0m\u001b[0mtimes\u001b[0m\u001b[1;33m)\u001b[0m\u001b[1;33m/\u001b[0m\u001b[1;33m(\u001b[0m\u001b[0mtimes\u001b[0m\u001b[1;33m[\u001b[0m\u001b[0mlen\u001b[0m\u001b[1;33m(\u001b[0m\u001b[0mtimes\u001b[0m\u001b[1;33m)\u001b[0m\u001b[1;33m-\u001b[0m\u001b[1;36m1\u001b[0m\u001b[1;33m]\u001b[0m\u001b[1;33m*\u001b[0m\u001b[0mnp\u001b[0m\u001b[1;33m.\u001b[0m\u001b[0mpower\u001b[0m\u001b[1;33m(\u001b[0m\u001b[1;36m10.0\u001b[0m\u001b[1;33m,\u001b[0m\u001b[1;33m-\u001b[0m\u001b[1;36m6\u001b[0m\u001b[1;33m)\u001b[0m\u001b[1;33m)\u001b[0m\u001b[1;33m\u001b[0m\u001b[0m\n\u001b[0;32m      2\u001b[0m \u001b[0mm1\u001b[0m\u001b[1;33m,\u001b[0m \u001b[0mm2\u001b[0m\u001b[1;33m,\u001b[0m \u001b[0mm3\u001b[0m\u001b[1;33m,\u001b[0m \u001b[0mm4\u001b[0m \u001b[1;33m=\u001b[0m \u001b[0mlc\u001b[0m\u001b[1;33m.\u001b[0m\u001b[0mnormalize\u001b[0m\u001b[1;33m(\u001b[0m\u001b[0mmic1\u001b[0m\u001b[1;33m,\u001b[0m \u001b[0mmic2\u001b[0m\u001b[1;33m,\u001b[0m \u001b[0mmic3\u001b[0m\u001b[1;33m,\u001b[0m\u001b[0mmic4\u001b[0m\u001b[1;33m)\u001b[0m\u001b[1;33m\u001b[0m\u001b[0m\n\u001b[1;32m----> 3\u001b[1;33m \u001b[0mm1\u001b[0m\u001b[1;33m,\u001b[0m \u001b[0mm2\u001b[0m\u001b[1;33m,\u001b[0m \u001b[0mm3\u001b[0m\u001b[1;33m,\u001b[0m \u001b[0mm4\u001b[0m \u001b[1;33m=\u001b[0m \u001b[0mlc\u001b[0m\u001b[1;33m.\u001b[0m\u001b[0mfilter\u001b[0m\u001b[1;33m(\u001b[0m\u001b[0mm1\u001b[0m\u001b[1;33m,\u001b[0m \u001b[0mm2\u001b[0m\u001b[1;33m,\u001b[0m \u001b[0mm3\u001b[0m\u001b[1;33m,\u001b[0m \u001b[0mm4\u001b[0m\u001b[1;33m,\u001b[0m \u001b[1;36m800\u001b[0m\u001b[1;33m,\u001b[0m \u001b[1;36m1200\u001b[0m\u001b[1;33m,\u001b[0m \u001b[0msampleRate\u001b[0m\u001b[1;33m)\u001b[0m\u001b[1;33m\u001b[0m\u001b[0m\n\u001b[0m\u001b[0;32m      4\u001b[0m \u001b[0mt\u001b[0m\u001b[1;33m,\u001b[0m \u001b[0mm1\u001b[0m\u001b[1;33m,\u001b[0m \u001b[0mm2\u001b[0m\u001b[1;33m,\u001b[0m \u001b[0mm3\u001b[0m\u001b[1;33m,\u001b[0m \u001b[0mm4\u001b[0m \u001b[1;33m=\u001b[0m \u001b[0mlc\u001b[0m\u001b[1;33m.\u001b[0m\u001b[0minterpolate\u001b[0m\u001b[1;33m(\u001b[0m\u001b[0mtimes\u001b[0m\u001b[1;33m,\u001b[0m \u001b[0mm1\u001b[0m\u001b[1;33m,\u001b[0m \u001b[0mm2\u001b[0m\u001b[1;33m,\u001b[0m \u001b[0mm3\u001b[0m\u001b[1;33m,\u001b[0m \u001b[0mm4\u001b[0m\u001b[1;33m,\u001b[0m \u001b[1;36m10\u001b[0m\u001b[1;33m)\u001b[0m\u001b[1;33m\u001b[0m\u001b[0m\n",
        "\u001b[1;31mAttributeError\u001b[0m: 'module' object has no attribute 'filter'"
       ]
      }
     ],
     "prompt_number": 4
    },
    {
     "cell_type": "code",
     "collapsed": false,
     "input": [
      "plt.plot(t, m1, t, m2, t, m3, t, m4)\n",
      "plt.xlabel('time [microseconds]')\n",
      "plt.ylabel('Voltage [mV]')\n",
      "plt.title('1kHz sound signal into 4 microphones')\n",
      "plt.legend(['Mic 1', 'Mic 2', 'Mic 3', 'Mic 4'])\n",
      "plt.show()"
     ],
     "language": "python",
     "metadata": {},
     "outputs": [],
     "prompt_number": 7
    },
    {
     "cell_type": "code",
     "collapsed": false,
     "input": [
      "testm1 = m1[600:1000]\n",
      "testm2 = m2[600:1000]\n",
      "testm3 = m3[600:1000]\n",
      "testm4 = m4[600:1000]\n",
      "m1val = testm1[2]\n",
      "m2val = testm2[2]\n",
      "m3val = testm3[2]\n",
      "m4val = testm4[2]\n",
      "\n",
      "cor1, cor2, cor3, cor4 = lc.correlate(testm3, testm1, testm2, testm4)\n",
      "t1, t2, t3, t4 = lc.get_taus(cor1, cor2, cor3, cor4, sampleRate)\n",
      "\n",
      "tt1, tt2, tt3, tt4 = lc.find_phase(m1,m2,m3,m4)\n",
      "'''\n",
      "if m1val > m2val and m1val > m3val and m1val > m4val:\n",
      "    print 1\n",
      "    cor1, cor2, cor3, cor4 = lc.correlate(testm1, testm2, testm3, testm4)\n",
      "    t1, t2, t3, t4 = lc.get_taus(cor1, cor2, cor3, cor4, sampleRate)\n",
      "elif m2val > m1val and m2val > m3val and m2val > m4val:\n",
      "    print 2\n",
      "    cor1, cor2, cor3, cor4 = lc.correlate(testm2, testm1, testm3, testm4)\n",
      "    t1, t2, t3, t4 = lc.get_taus(cor1, cor2, cor3, cor4, sampleRate)\n",
      "elif m3val > m1val and m3val > m2val and m3val > m4val:\n",
      "    print 3\n",
      "    cor1, cor2, cor3, cor4 = lc.correlate(testm3, testm1, testm2, testm4)\n",
      "    t1, t2, t3, t4 = lc.get_taus(cor1, cor2, cor3, cor4, sampleRate)\n",
      "else:\n",
      "    print 4\n",
      "    cor1, cor2, cor3, cor4 = lc.correlate(testm4, testm1, testm2, testm4)\n",
      "    t1, t2, t3, t4 = lc.get_taus(cor1, cor2, cor3, cor4, sampleRate)\n",
      "'''\n",
      "deltat = np.array([t1, t2, t3, t4])\n",
      "\n",
      "c = np.argmin(deltat)\n",
      "cTime = deltat[c]\n",
      "\n",
      "#calculate the difference in time relative to the shortest time\n",
      "ddt = np.array([ dt - cTime for dt in deltat ])"
     ],
     "language": "python",
     "metadata": {},
     "outputs": [],
     "prompt_number": 5
    },
    {
     "cell_type": "code",
     "collapsed": false,
     "input": [
      "mic1Position = [trackable2[0] + mics[0,0], trackable2[1] + mics[1,0]]\n",
      "mic2Position = [trackable2[0] + mics[0,1], trackable2[1] + mics[1,1]]\n",
      "mic3Position = [trackable2[0] + mics[0,2], trackable2[1] + mics[1,2]]\n",
      "mic4Position = [trackable2[0] + mics[0,3], trackable2[1] + mics[1,3]]\n",
      "micPosition = np.array([mic1Position, mic2Position, mic3Position, mic4Position])\n",
      "corrected_mics = np.matrix(sensorPosition).T\n",
      "\n",
      "location = lc.tdoa(corrected_mics, ddt, temperature)"
     ],
     "language": "python",
     "metadata": {},
     "outputs": [],
     "prompt_number": 7
    },
    {
     "cell_type": "code",
     "collapsed": false,
     "input": [
      "plt.plot(micPosition[:,0], micPosition[:,1],'rx', trackable1[0], trackable1[1],'gd', location[0], -location[1],'bd')\n",
      "plt.plot([trackable1[0], location[0]], [trackable1[1], -location[1]], 'r--')\n",
      "plt.xlabel('x-axis [m]')\n",
      "plt.ylabel('y-axis [m]')\n",
      "plt.title('Multilateration Algorithm')\n",
      "plt.title('Algorithm Guess of sound location')\n",
      "#plt.legend(['Microphones', 'Optitrack Sound Location', 'Algorithm Estimate'],loc='upper right')\n",
      "plt.show()"
     ],
     "language": "python",
     "metadata": {},
     "outputs": [],
     "prompt_number": 8
    },
    {
     "cell_type": "code",
     "collapsed": false,
     "input": [],
     "language": "python",
     "metadata": {},
     "outputs": [
      {
       "output_type": "stream",
       "stream": "stdout",
       "text": [
        "3.53146169619e-08 3.26105988456e-08 3.39655580881e-08 3.44195226308e-08\n",
        "nan nan nan nan\n"
       ]
      }
     ],
     "prompt_number": 9
    },
    {
     "cell_type": "code",
     "collapsed": false,
     "input": [],
     "language": "python",
     "metadata": {},
     "outputs": [
      {
       "metadata": {},
       "output_type": "pyout",
       "prompt_number": 45,
       "text": [
        "matrix([[-0.29659426,  0.11273463],\n",
        "        [ 0.90621412, -0.81911976]])"
       ]
      }
     ],
     "prompt_number": 45
    },
    {
     "cell_type": "code",
     "collapsed": false,
     "input": [],
     "language": "python",
     "metadata": {},
     "outputs": []
    }
   ],
   "metadata": {}
  }
 ]
}