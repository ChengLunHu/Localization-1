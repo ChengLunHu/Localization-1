{
 "metadata": {
  "name": "",
  "signature": "sha256:3b05ea0f4ed69820ed9b2f83490838f95181a2fec87ce0533b4f670be53bda56"
 },
 "nbformat": 3,
 "nbformat_minor": 0,
 "worksheets": [
  {
   "cells": [
    {
     "cell_type": "code",
     "collapsed": false,
     "input": [
      "import numpy as np\n",
      "import localization as lc\n",
      "import matplotlib.pyplot as plt\n",
      "import sys\n",
      "import glob"
     ],
     "language": "python",
     "metadata": {},
     "outputs": [],
     "prompt_number": 2
    },
    {
     "cell_type": "code",
     "collapsed": false,
     "input": [
      "sound_files = glob.glob('/home/interam/Documents/Robot_Localization/Oct302014_data/run*.npz')\n",
      "optitrak_files = glob.glob('/home/interam/Documents/Robot_Localization/Oct302014_data/run*.csv')\n",
      "\n",
      "\n",
      "sound_file = '/home/interam/Documents/Robot_Localization/Oct302014_data/run2.npz'\n",
      "optitrak_file = '/home/interam/Documents/Robot_Localization/Oct302014_data/run2.csv'\n",
      "\n",
      "trackable1, trackable2, times, mic1, mic2, mic3, mic4 = lc.get_sound_data(sound_file, optitrak_file)\n",
      "\n",
      "sensorPosition =[[.0015, .040],[.048, .0105],[.0025,-.0165],[-.0385,.0065]]\n",
      "mics = np.matrix(sensorPosition).T\n",
      "temperature = 23"
     ],
     "language": "python",
     "metadata": {},
     "outputs": [],
     "prompt_number": 25
    },
    {
     "cell_type": "code",
     "collapsed": false,
     "input": [
      "plt.plot(times, mic1, times, mic2, times, mic3, times, mic4)\n",
      "plt.xlabel('time [microseconds]')\n",
      "plt.ylabel('Voltage [mV]')\n",
      "plt.title('1kHz sound signal into 4 microphones')\n",
      "plt.legend(['Mic 1', 'Mic 2', 'Mic 3', 'Mic 4'])\n",
      "plt.show()"
     ],
     "language": "python",
     "metadata": {},
     "outputs": [],
     "prompt_number": 26
    },
    {
     "cell_type": "code",
     "collapsed": false,
     "input": [
      "sampleRate = len(times)/(times[len(times)-1]*np.power(10.0,-6))\n",
      "m1, m2, m3, m4 = lc.normalize(mic1, mic2, mic3,mic4)\n",
      "m1, m2, m3, m4 = lc.filter(m1, m2, m3, m4, 800, 1200, sampleRate) \n",
      "t, m1, m2, m3, m4 = lc.interpolate(times, m1, m2, m3, m4, 10)"
     ],
     "language": "python",
     "metadata": {},
     "outputs": [],
     "prompt_number": 27
    },
    {
     "cell_type": "code",
     "collapsed": false,
     "input": [
      "plt.plot(t, m1, t, m2, t, m3, t, m4)\n",
      "plt.xlabel('time [microseconds]')\n",
      "plt.ylabel('Voltage [mV]')\n",
      "plt.title('1kHz sound signal into 4 microphones')\n",
      "plt.legend(['Mic 1', 'Mic 2', 'Mic 3', 'Mic 4'])\n",
      "plt.show()"
     ],
     "language": "python",
     "metadata": {},
     "outputs": [],
     "prompt_number": 7
    },
    {
     "cell_type": "code",
     "collapsed": false,
     "input": [
      "testm1 = m1[600:1000]\n",
      "testm2 = m2[600:1000]\n",
      "testm3 = m3[600:1000]\n",
      "testm4 = m4[600:1000]\n",
      "m1val = testm1[2]\n",
      "m2val = testm2[2]\n",
      "m3val = testm3[2]\n",
      "m4val = testm4[2]\n",
      "\n",
      "cor1, cor2, cor3, cor4 = lc.correlate(testm3, testm1, testm2, testm4)\n",
      "t1, t2, t3, t4 = lc.get_taus(cor1, cor2, cor3, cor4, sampleRate)\n",
      "'''\n",
      "if m1val > m2val and m1val > m3val and m1val > m4val:\n",
      "    print 1\n",
      "    cor1, cor2, cor3, cor4 = lc.correlate(testm1, testm2, testm3, testm4)\n",
      "    t1, t2, t3, t4 = lc.get_taus(cor1, cor2, cor3, cor4, sampleRate)\n",
      "elif m2val > m1val and m2val > m3val and m2val > m4val:\n",
      "    print 2\n",
      "    cor1, cor2, cor3, cor4 = lc.correlate(testm2, testm1, testm3, testm4)\n",
      "    t1, t2, t3, t4 = lc.get_taus(cor1, cor2, cor3, cor4, sampleRate)\n",
      "elif m3val > m1val and m3val > m2val and m3val > m4val:\n",
      "    print 3\n",
      "    cor1, cor2, cor3, cor4 = lc.correlate(testm3, testm1, testm2, testm4)\n",
      "    t1, t2, t3, t4 = lc.get_taus(cor1, cor2, cor3, cor4, sampleRate)\n",
      "else:\n",
      "    print 4\n",
      "    cor1, cor2, cor3, cor4 = lc.correlate(testm4, testm1, testm2, testm4)\n",
      "    t1, t2, t3, t4 = lc.get_taus(cor1, cor2, cor3, cor4, sampleRate)\n",
      "'''\n",
      "deltat = np.array([t1, t2, t3, t4])\n",
      "\n",
      "c = np.argmin(deltat)\n",
      "cTime = deltat[c]\n",
      "\n",
      "#calculate the difference in time relative to the shortest time\n",
      "ddt = np.array([ dt - cTime for dt in deltat ])"
     ],
     "language": "python",
     "metadata": {},
     "outputs": [],
     "prompt_number": 55
    },
    {
     "cell_type": "code",
     "collapsed": false,
     "input": [
      "mic1Position = [trackable2[0] + mics[0,0], trackable2[1] + mics[1,0]]\n",
      "mic2Position = [trackable2[0] + mics[0,1], trackable2[1] + mics[1,1]]\n",
      "mic3Position = [trackable2[0] + mics[0,2], trackable2[1] + mics[1,2]]\n",
      "mic4Position = [trackable2[0] + mics[0,3], trackable2[1] + mics[1,3]]\n",
      "micPosition = np.array([mic1Position, mic2Position, mic3Position, mic4Position])\n",
      "\n",
      "location = lc.tdoa(micPosition, ddt, temperature)"
     ],
     "language": "python",
     "metadata": {},
     "outputs": [],
     "prompt_number": 56
    },
    {
     "cell_type": "code",
     "collapsed": false,
     "input": [
      "plt.plot(micPosition[:,0], micPosition[:,1],'rx', trackable1[0], trackable1[1],'gd', location[0], -location[1],'bd')\n",
      "plt.plot([trackable1[0], location[0]], [trackable1[1], -location[1]], 'r--')\n",
      "plt.xlabel('x-axis [m]')\n",
      "plt.ylabel('y-axis [m]')\n",
      "plt.title('Multilateration Algorithm')\n",
      "plt.title('Algorithm Guess of sound location')\n",
      "#plt.legend(['Microphones', 'Optitrack Sound Location', 'Algorithm Estimate'],loc='upper right')\n",
      "plt.show()"
     ],
     "language": "python",
     "metadata": {},
     "outputs": [],
     "prompt_number": 57
    },
    {
     "cell_type": "code",
     "collapsed": false,
     "input": [
      "print optitrak_files\n",
      "print sound_files"
     ],
     "language": "python",
     "metadata": {},
     "outputs": [
      {
       "output_type": "stream",
       "stream": "stdout",
       "text": [
        "['/home/interam/Documents/Robot_Localization/Oct302014_data/run5.csv', '/home/interam/Documents/Robot_Localization/Oct302014_data/run9.csv', '/home/interam/Documents/Robot_Localization/Oct302014_data/run3.csv', '/home/interam/Documents/Robot_Localization/Oct302014_data/run8.csv', '/home/interam/Documents/Robot_Localization/Oct302014_data/run6.csv', '/home/interam/Documents/Robot_Localization/Oct302014_data/run2.csv', '/home/interam/Documents/Robot_Localization/Oct302014_data/run1.csv', '/home/interam/Documents/Robot_Localization/Oct302014_data/run7.csv', '/home/interam/Documents/Robot_Localization/Oct302014_data/run4.csv', '/home/interam/Documents/Robot_Localization/Oct302014_data/run10.csv']\n",
        "['/home/interam/Documents/Robot_Localization/Oct302014_data/run4.npz', '/home/interam/Documents/Robot_Localization/Oct302014_data/run9.npz', '/home/interam/Documents/Robot_Localization/Oct302014_data/run10.npz', '/home/interam/Documents/Robot_Localization/Oct302014_data/run1.npz', '/home/interam/Documents/Robot_Localization/Oct302014_data/run2.npz', '/home/interam/Documents/Robot_Localization/Oct302014_data/run3.npz', '/home/interam/Documents/Robot_Localization/Oct302014_data/run6.npz', '/home/interam/Documents/Robot_Localization/Oct302014_data/run7.npz', '/home/interam/Documents/Robot_Localization/Oct302014_data/run8.npz', '/home/interam/Documents/Robot_Localization/Oct302014_data/run5.npz']\n"
       ]
      }
     ],
     "prompt_number": 24
    },
    {
     "cell_type": "code",
     "collapsed": false,
     "input": [
      "line"
     ],
     "language": "python",
     "metadata": {},
     "outputs": [
      {
       "metadata": {},
       "output_type": "pyout",
       "prompt_number": 45,
       "text": [
        "matrix([[-0.29659426,  0.11273463],\n",
        "        [ 0.90621412, -0.81911976]])"
       ]
      }
     ],
     "prompt_number": 45
    },
    {
     "cell_type": "code",
     "collapsed": false,
     "input": [],
     "language": "python",
     "metadata": {},
     "outputs": []
    }
   ],
   "metadata": {}
  }
 ]
}