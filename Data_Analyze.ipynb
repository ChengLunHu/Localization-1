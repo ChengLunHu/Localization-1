{
 "metadata": {
  "name": "",
  "signature": "sha256:d21b4ccb9babea047854888fe9f1c0de6d172c20fcadef516746b4876a29bd2b"
 },
 "nbformat": 3,
 "nbformat_minor": 0,
 "worksheets": [
  {
   "cells": [
    {
     "cell_type": "code",
     "collapsed": false,
     "input": [
      "import numpy as np\n",
      "from numpy import linalg as LA\n",
      "import localization as lc\n",
      "import matplotlib.pyplot as plt\n",
      "import sys\n",
      "import glob"
     ],
     "language": "python",
     "metadata": {},
     "outputs": [],
     "prompt_number": 13
    },
    {
     "cell_type": "code",
     "collapsed": false,
     "input": [
      "sound_files = glob.glob('/home/interam/Documents/Robot_Localization/Oct302014_data/run*.npz')\n",
      "optitrak_files = glob.glob('/home/interam/Documents/Robot_Localization/Oct302014_data/run*.csv')\n",
      "\n",
      "\n",
      "sound_file = '/home/interam/Documents/Robot_Localization/Oct302014_data/run2.npz'\n",
      "optitrak_file = '/home/interam/Documents/Robot_Localization/Oct302014_data/run2.csv'\n",
      "\n",
      "trackable1, trackable2, times, mic1, mic2, mic3, mic4 = lc.get_sound_data(sound_file, optitrak_file)\n",
      "\n",
      "sensorPosition =[[.0015, .040],[.048, .0105],[.0025,-.0165],[-.0385,.0065]]\n",
      "mics = np.matrix(sensorPosition).T\n",
      "temperature = 23"
     ],
     "language": "python",
     "metadata": {},
     "outputs": [],
     "prompt_number": 14
    },
    {
     "cell_type": "code",
     "collapsed": false,
     "input": [
      "plt.plot(times, mic1, times, mic2, times, mic3, times, mic4)\n",
      "plt.xlabel('time [microseconds]')\n",
      "plt.ylabel('Voltage [mV]')\n",
      "plt.title('1kHz sound signal into 4 microphones')\n",
      "plt.legend(['Mic 1', 'Mic 2', 'Mic 3', 'Mic 4'])\n",
      "plt.show()"
     ],
     "language": "python",
     "metadata": {},
     "outputs": [],
     "prompt_number": 3
    },
    {
     "cell_type": "code",
     "collapsed": false,
     "input": [
      "sampleRate = len(times)/(times[len(times)-1]*np.power(10.0,-6))\n",
      "m1, m2, m3, m4 = lc.normalize(mic1, mic2, mic3,mic4)\n",
      "m1, m2, m3, m4 = lc.run_filter(m1, m2, m3, m4, 800, 1200, sampleRate) \n",
      "t, m1, m2, m3, m4 = lc.interpolate(times, m1, m2, m3, m4, 10)"
     ],
     "language": "python",
     "metadata": {},
     "outputs": [],
     "prompt_number": 16
    },
    {
     "cell_type": "code",
     "collapsed": false,
     "input": [
      "plt.plot(t, m1, t, m2, t, m3, t, m4)\n",
      "plt.xlabel('time [microseconds]')\n",
      "plt.ylabel('Voltage [mV]')\n",
      "plt.title('1kHz sound signal into 4 microphones')\n",
      "plt.legend(['Mic 1', 'Mic 2', 'Mic 3', 'Mic 4'])\n",
      "plt.show()"
     ],
     "language": "python",
     "metadata": {},
     "outputs": [],
     "prompt_number": 7
    },
    {
     "cell_type": "code",
     "collapsed": false,
     "input": [
      "testm1 = m1[600:1000]\n",
      "testm2 = m2[600:1000]\n",
      "testm3 = m3[600:1000]\n",
      "testm4 = m4[600:1000]\n",
      "m1val = testm1[2]\n",
      "m2val = testm2[2]\n",
      "m3val = testm3[2]\n",
      "m4val = testm4[2]\n",
      "\n",
      "cor1, cor2, cor3, cor4 = lc.correlate(testm3, testm1, testm2, testm4)\n",
      "t1, t2, t3, t4 = lc.get_taus(cor1, cor2, cor3, cor4, sampleRate)\n",
      "\n",
      "pht1, pht2, pht3, pht4 = lc.find_phase(testm1,testm2,testm3,testm4)\n",
      "pht = np.array([pht1, pht2, pht3, pht4])\n",
      "'''\n",
      "if m1val > m2val and m1val > m3val and m1val > m4val:\n",
      "    print 1\n",
      "    cor1, cor2, cor3, cor4 = lc.correlate(testm1, testm2, testm3, testm4)\n",
      "    t1, t2, t3, t4 = lc.get_taus(cor1, cor2, cor3, cor4, sampleRate)\n",
      "elif m2val > m1val and m2val > m3val and m2val > m4val:\n",
      "    print 2\n",
      "    cor1, cor2, cor3, cor4 = lc.correlate(testm2, testm1, testm3, testm4)\n",
      "    t1, t2, t3, t4 = lc.get_taus(cor1, cor2, cor3, cor4, sampleRate)\n",
      "elif m3val > m1val and m3val > m2val and m3val > m4val:\n",
      "    print 3\n",
      "    cor1, cor2, cor3, cor4 = lc.correlate(testm3, testm1, testm2, testm4)\n",
      "    t1, t2, t3, t4 = lc.get_taus(cor1, cor2, cor3, cor4, sampleRate)\n",
      "else:\n",
      "    print 4\n",
      "    cor1, cor2, cor3, cor4 = lc.correlate(testm4, testm1, testm2, testm4)\n",
      "    t1, t2, t3, t4 = lc.get_taus(cor1, cor2, cor3, cor4, sampleRate)\n",
      "'''\n",
      "deltat = np.array([t1, t2, t3, t4])\n",
      "\n",
      "c = np.argmin(deltat)\n",
      "cTime = deltat[c]\n",
      "\n",
      "#calculate the difference in time relative to the shortest time\n",
      "ddt = np.array([ dt - cTime for dt in deltat ])"
     ],
     "language": "python",
     "metadata": {},
     "outputs": [],
     "prompt_number": 17
    },
    {
     "cell_type": "code",
     "collapsed": false,
     "input": [
      "mic1Position = [trackable2[0] + mics[0,0], trackable2[1] + mics[1,0]]\n",
      "mic2Position = [trackable2[0] + mics[0,1], trackable2[1] + mics[1,1]]\n",
      "mic3Position = [trackable2[0] + mics[0,2], trackable2[1] + mics[1,2]]\n",
      "mic4Position = [trackable2[0] + mics[0,3], trackable2[1] + mics[1,3]]\n",
      "micPosition = np.array([mic1Position, mic2Position, mic3Position, mic4Position])\n",
      "corrected_mics = np.matrix(sensorPosition).T\n",
      "\n",
      "location = lc.tdoa(corrected_mics, ddt, temperature)\n",
      "plocation = lc.tdoa(corrected_mics, pht, temperature)\n",
      "plocation = np.array([-plocation[0], plocation[1]])\n",
      "cal_location = lc.tdoa(corrected_mics, cal_dt, temperature)"
     ],
     "language": "python",
     "metadata": {},
     "outputs": [],
     "prompt_number": 28
    },
    {
     "cell_type": "code",
     "collapsed": false,
     "input": [
      "dist1 = LA.norm(trackable1 - mic1Position)\n",
      "dist2 = LA.norm(trackable1 - mic2Position)\n",
      "dist3 = LA.norm(trackable1 - mic3Position)\n",
      "dist4 = LA.norm(trackable1 - mic4Position)\n",
      "\n",
      "v = (331.3+(0.606*temperature))\n",
      "tt1 = dist1/v\n",
      "tt2 = dist2/v\n",
      "tt3 = dist3/v\n",
      "tt4 = dist4/v\n",
      "\n",
      "cdt1 = (tt1 - tt1)\n",
      "cdt2 = (tt2 - tt1)\n",
      "cdt3 = (tt3 - tt1)\n",
      "cdt4 = (tt4 - tt1)\n",
      "cal_dt = np.array([cdt1, cdt2, cdt3, cdt4])"
     ],
     "language": "python",
     "metadata": {},
     "outputs": [],
     "prompt_number": 24
    },
    {
     "cell_type": "code",
     "collapsed": false,
     "input": [
      "plt.plot(micPosition[:,0], micPosition[:,1],'rx', trackable1[0], trackable1[1],'gd', location[0], -location[1],'bd')\n",
      "plt.plot(plocation[0], plocation[1],'kd')\n",
      "plt.plot([trackable1[0], location[0]], [trackable1[1], -location[1]], 'r--', [trackable1[0], plocation[0]], [trackable1[1], plocation[1]], 'g--')\n",
      "plt.xlabel('x-axis [m]')\n",
      "plt.ylabel('y-axis [m]')\n",
      "plt.title('Multilateration Algorithm')\n",
      "plt.title('Algorithm Guess of sound location')\n",
      "plt.legend(['Microphones', 'Optitrack Sound Location', 'Algorithm Estimate(correlation)', 'Algorithm Estimate(phase)'],loc='upper right')\n",
      "plt.show()"
     ],
     "language": "python",
     "metadata": {},
     "outputs": [],
     "prompt_number": 10
    },
    {
     "cell_type": "code",
     "collapsed": false,
     "input": [
      "print location\n",
      "print plocation\n",
      "print cal_location\n",
      "print trackable1"
     ],
     "language": "python",
     "metadata": {},
     "outputs": [
      {
       "output_type": "stream",
       "stream": "stdout",
       "text": [
        "[ 0.00145506  0.03282204]\n",
        "[   658.17944479  14447.94002271]\n",
        "[-120152.22006777  415072.76707064]\n",
        "[-0.29659426  0.90621412]\n"
       ]
      }
     ],
     "prompt_number": 29
    },
    {
     "cell_type": "code",
     "collapsed": false,
     "input": [
      "print pht\n",
      "print cal_dt"
     ],
     "language": "python",
     "metadata": {},
     "outputs": [
      {
       "output_type": "stream",
       "stream": "stdout",
       "text": [
        "[ 0.          0.00011933  0.00014783  0.00011941]\n",
        "[  0.00000000e+00   1.21428198e-04   1.58158480e-04   6.34530650e-05]\n"
       ]
      }
     ],
     "prompt_number": 30
    },
    {
     "cell_type": "code",
     "collapsed": false,
     "input": [],
     "language": "python",
     "metadata": {},
     "outputs": []
    }
   ],
   "metadata": {}
  }
 ]
}